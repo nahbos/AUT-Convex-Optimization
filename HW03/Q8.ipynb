{
 "cells": [
  {
   "cell_type": "markdown",
   "id": "f537eb52",
   "metadata": {},
   "source": [
    "### - Sobhan Moradian Daghigh\n",
    "#### - 7/7/2022\n",
    "#### - Convex - HW03 - Q8"
   ]
  },
  {
   "cell_type": "code",
   "execution_count": null,
   "id": "534abbec",
   "metadata": {},
   "outputs": [],
   "source": []
  },
  {
   "cell_type": "code",
   "execution_count": 1,
   "id": "c39ad499",
   "metadata": {},
   "outputs": [],
   "source": [
    "import numpy as np\n",
    "import cvxpy as cvx"
   ]
  },
  {
   "cell_type": "code",
   "execution_count": null,
   "id": "e0e8708a",
   "metadata": {},
   "outputs": [],
   "source": []
  },
  {
   "cell_type": "markdown",
   "id": "64b4cb6d",
   "metadata": {},
   "source": [
    "### Part A."
   ]
  },
  {
   "cell_type": "code",
   "execution_count": 2,
   "id": "f00525d9",
   "metadata": {},
   "outputs": [],
   "source": [
    "# Ax <= b ---------------------\n",
    "A = np.array([[1, 2 ],\n",
    "              [1, -4],\n",
    "              [5, 76]])\n",
    "u1 = -2\n",
    "u2 = -3\n",
    "b = np.array([[u1], [u2], [1]])\n",
    "#------------------------------\n",
    "\n",
    "Q = np.array([[1 , -0.5], \n",
    "              [-0.5 , 2]])\n",
    "f = np.array([-1, 0])"
   ]
  },
  {
   "cell_type": "code",
   "execution_count": 3,
   "id": "bed74201",
   "metadata": {},
   "outputs": [
    {
     "name": "stdout",
     "output_type": "stream",
     "text": [
      "The minimum value: 8.222\n",
      "The minimum point is: (-2.33, 0.17)\n",
      "The Lagrange multipliers are: (2.75, 2.89, 0.04)\n",
      "\n",
      "KKT condition 1: True\n",
      "KKT condition 2: True\n",
      "KKT condition 3: True\n",
      "KKT condition 4: True\n"
     ]
    }
   ],
   "source": [
    "x = cvx.Variable([2, 1])\n",
    "problem = cvx.quad_form(x, Q) + x.T @ f\n",
    "constraints = [A @ x <= b]\n",
    "min_value = cvx.Problem(cvx.Minimize(problem), constraints).solve()\n",
    "landas = constraints[0].dual_value\n",
    "x_val = np.array(x.value).reshape(2, 1)\n",
    "\n",
    "print(\"The minimum value: {}\".format(round(min_value, 3)))\n",
    "print(\"The minimum point is: {}\".format(tuple([round(ele[0], 2) for ele in x.value])))\n",
    "print(\"The Lagrange multipliers are: {}\\n\".format(tuple([round(ele[0], 2) for ele in landas])))\n",
    "\n",
    "minimum = np.power(10, 5)\n",
    "print(\"KKT condition 1: {}\".format((A.dot(x_val) - b).all() < minimum))\n",
    "print(\"KKT condition 2: {}\".format(landas.all() >= 0))\n",
    "print(\"KKT condition 3: {}\".format(np.abs((landas * (A.dot(x_val) - b)).all()) < minimum))\n",
    "print(\"KKT condition 4: {}\".format(np.abs((2 * Q.dot(x_val)) + f.T + (A.transpose().dot(constraints[0].dual_value))).all() < minimum))"
   ]
  },
  {
   "cell_type": "code",
   "execution_count": null,
   "id": "7e0efc95",
   "metadata": {},
   "outputs": [],
   "source": []
  },
  {
   "cell_type": "markdown",
   "id": "50fa0aef",
   "metadata": {},
   "source": [
    "### Part B."
   ]
  },
  {
   "cell_type": "code",
   "execution_count": 4,
   "id": "05ad0387",
   "metadata": {},
   "outputs": [
    {
     "name": "stdout",
     "output_type": "stream",
     "text": [
      "delta1:  -0.05    delta2: -0.05    ppred: 8.50     pexact: 8.52\n",
      "delta1:  -0.05    delta2: 0        ppred: 8.36     pexact: 8.52\n",
      "delta1:  -0.05    delta2: 0.05     ppred: 8.22     pexact: 8.52\n",
      "delta1:  0        delta2: -0.05    ppred: 8.37     pexact: 8.52\n",
      "delta1:  0        delta2: 0        ppred: 8.22     pexact: 8.22\n",
      "delta1:  0        delta2: 0.05     ppred: 8.08     pexact: 8.22\n",
      "delta1:  0.05     delta2: -0.05    ppred: 8.23     pexact: 8.52\n",
      "delta1:  0.05     delta2: 0        ppred: 8.08     pexact: 8.22\n",
      "delta1:  0.05     delta2: 0.05     ppred: 7.94     pexact: 8.22\n"
     ]
    }
   ],
   "source": [
    "deltas = [-0.05, 0, 0.05]\n",
    "\n",
    "for delta1 in deltas:\n",
    "    for delta2 in deltas:\n",
    "        b_new = b + np.array(np.array([delta1, delta2, 0])).T\n",
    "        p_pred = min_value - (landas[0] * delta1 + landas[1] * delta2)\n",
    "        constraints = [A @ x <= b_new]\n",
    "        p_exact = cvx.Problem(cvx.Minimize(problem), constraints).solve()\n",
    "        print('delta1:  {:<8} delta2: {:<8} ppred: {:<8.2f} pexact: {:.2f}'.format(delta1, delta2, p_pred[0], p_exact))"
   ]
  },
  {
   "cell_type": "code",
   "execution_count": null,
   "id": "c678c3f6",
   "metadata": {},
   "outputs": [],
   "source": []
  },
  {
   "cell_type": "markdown",
   "id": "16da1e0c",
   "metadata": {},
   "source": [
    "### Finito"
   ]
  }
 ],
 "metadata": {
  "kernelspec": {
   "display_name": "Python 3 (ipykernel)",
   "language": "python",
   "name": "python3"
  },
  "language_info": {
   "codemirror_mode": {
    "name": "ipython",
    "version": 3
   },
   "file_extension": ".py",
   "mimetype": "text/x-python",
   "name": "python",
   "nbconvert_exporter": "python",
   "pygments_lexer": "ipython3",
   "version": "3.10.1"
  },
  "toc": {
   "base_numbering": 1,
   "nav_menu": {},
   "number_sections": false,
   "sideBar": true,
   "skip_h1_title": false,
   "title_cell": "Table of Contents",
   "title_sidebar": "Contents",
   "toc_cell": false,
   "toc_position": {},
   "toc_section_display": true,
   "toc_window_display": false
  }
 },
 "nbformat": 4,
 "nbformat_minor": 5
}
