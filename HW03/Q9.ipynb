{
 "cells": [
  {
   "cell_type": "markdown",
   "id": "de0ea269",
   "metadata": {},
   "source": [
    "### - Sobhan Moradian Daghigh\n",
    "#### - 7/7/2022\n",
    "#### - Convex - HW03 - Q9"
   ]
  },
  {
   "cell_type": "code",
   "execution_count": null,
   "id": "31fee43f",
   "metadata": {},
   "outputs": [],
   "source": []
  },
  {
   "cell_type": "code",
   "execution_count": 1,
   "id": "72673d89",
   "metadata": {},
   "outputs": [],
   "source": [
    "import numpy as np\n",
    "import matplotlib.pyplot as plt\n",
    "import random\n",
    "import scipy.io as sio\n",
    "from numpy.random import permutation\n",
    "from sklearn.neighbors import kneighbors_graph\n",
    "from sklearn.metrics import accuracy_score"
   ]
  },
  {
   "cell_type": "code",
   "execution_count": null,
   "id": "2aa950b4",
   "metadata": {},
   "outputs": [],
   "source": []
  },
  {
   "cell_type": "code",
   "execution_count": 2,
   "id": "789462af",
   "metadata": {},
   "outputs": [],
   "source": [
    "def plotter(images, names=None, subplots=None, gray=False):\n",
    "    if subplots is None:\n",
    "        plt.figure(figsize=(5, 6))\n",
    "        plt.imshow(images, cmap='gray') if gray else plt.imshow(images)\n",
    "        plt.title(names)\n",
    "        plt.axis('off')\n",
    "    else:\n",
    "        fig, ax = plt.subplots(subplots[0], subplots[1], figsize=(subplots[1] * 4, subplots[0] * 4))\n",
    "        for i, (img, name, ax) in enumerate(zip(images, names, fig.axes)):\n",
    "            ax.imshow(img, cmap='gray') if gray else ax.imshow(img)\n",
    "            ax.set_title(name)\n",
    "            ax.axis('off')\n",
    "    plt.show()"
   ]
  },
  {
   "cell_type": "code",
   "execution_count": null,
   "id": "6d744374",
   "metadata": {},
   "outputs": [],
   "source": []
  },
  {
   "cell_type": "code",
   "execution_count": 3,
   "id": "bdc45563",
   "metadata": {},
   "outputs": [
    {
     "data": {
      "image/png": "[encoded data removed]",
      "text/plain": [
       "<Figure size 1440x864 with 15 Axes>"
      ]
     },
     "metadata": {
      "needs_background": "light"
     },
     "output_type": "display_data"
    }
   ],
   "source": [
    "# From main.py\n",
    "\n",
    "def to_onehot(label):\n",
    "    m = len(set(label))\n",
    "    n = len(label)\n",
    "    onehot_matrix = np.zeros([n, m])\n",
    "    for i in range(n):\n",
    "        onehot_matrix[i, label[i]] = 1\n",
    "    return onehot_matrix\n",
    "\n",
    "\n",
    "def load_USPS_data_instace(path, sample_per_class):\n",
    "    data = sio.loadmat(path)\n",
    "    img = data['data']\n",
    "    img_data = []\n",
    "    label = []\n",
    "    for i in range(img.shape[-1]):\n",
    "        temp_sample_list = []\n",
    "        for j in range(img.shape[1]):\n",
    "            temp = np.reshape(img[:, j, i], [16, 16])\n",
    "            temp_sample_list.append(temp)\n",
    "\n",
    "        idx = permutation(len(temp_sample_list))\n",
    "        idx = idx[:sample_per_class]\n",
    "        selected_samples = [temp_sample_list[x].astype(np.uint8) for x in idx]\n",
    "        selected_labels = [(i + 1) % 10 for _ in idx]\n",
    "        img_data.extend(selected_samples)\n",
    "        label.extend(selected_labels)\n",
    "\n",
    "    img_data = np.array(img_data)\n",
    "    img_data = img_data.astype('float')\n",
    "    label = np.array(label[:])\n",
    "    oh_label = to_onehot(label)\n",
    "    return img_data, label\n",
    "\n",
    "\n",
    "images, labels = load_USPS_data_instace('./USPSdata/usps_all.mat', 100)\n",
    "idxs = permutation(len(images))\n",
    "plotter(images[idxs], labels[idxs], subplots=(3, 5), gray=True)\n",
    "images = np.reshape(images, [images.shape[0], -1])"
   ]
  },
  {
   "cell_type": "code",
   "execution_count": null,
   "id": "15599853",
   "metadata": {},
   "outputs": [],
   "source": []
  },
  {
   "cell_type": "code",
   "execution_count": 4,
   "id": "effe9a44",
   "metadata": {},
   "outputs": [],
   "source": [
    "kneighbor = 10\n",
    "n_class = 10\n",
    "\n",
    "part1 = (kneighbors_graph(images, 10, mode='distance', include_self=True)).toarray()\n",
    "sigma = (1 / 3)  * (part1.sum() / (kneighbor * n_class))\n",
    "W = np.exp(np.divide(np.power(part1, 2), (2 * np.power(sigma, 2))))"
   ]
  },
  {
   "cell_type": "code",
   "execution_count": 5,
   "id": "b4ee489a",
   "metadata": {},
   "outputs": [],
   "source": [
    "D = 10 * np.identity(W.shape[0])"
   ]
  },
  {
   "cell_type": "code",
   "execution_count": 6,
   "id": "e61c5187",
   "metadata": {},
   "outputs": [],
   "source": [
    "L = D - W"
   ]
  },
  {
   "cell_type": "code",
   "execution_count": null,
   "id": "25e36ea3",
   "metadata": {},
   "outputs": [],
   "source": []
  },
  {
   "cell_type": "code",
   "execution_count": 11,
   "id": "2e24a558",
   "metadata": {},
   "outputs": [
    {
     "name": "stdout",
     "output_type": "stream",
     "text": [
      "The accuracy when we use  30.0%  of data for training is:  0.30 \n",
      "The accuracy when we use  40.0%  of data for training is:  0.47 \n",
      "The accuracy when we use  60.0%  of data for training is:  0.65 \n",
      "The accuracy when we use  90.0%  of data for training is:  0.89 \n"
     ]
    }
   ],
   "source": [
    "percentages = [0.3, 0.4, 0.6, 0.9]\n",
    "\n",
    "for p in percentages:\n",
    "    \n",
    "    x_train_len = int(p * labels.shape[0])\n",
    "\n",
    "    # S.T * x = y\n",
    "    y = np.zeros((x_train_len, 1))\n",
    "    y_pred_idxs = list(set(range(0, labels.shape[0])) ^ set(idxs))\n",
    "    idxs = random.sample(range(0, labels.shape[0]), x_train_len)\n",
    "\n",
    "    S = np.zeros((labels.shape[0], x_train_len))\n",
    "    for i, idx in zip(range(x_train_len), idxs):\n",
    "        S[idx][i] = 1\n",
    "        y[i] = labels[idx]\n",
    "\n",
    "    inv_L = np.linalg.inv(L)\n",
    "    term1 = np.linalg.inv(np.dot(np.dot(S.T, inv_L), S))\n",
    "    term2 = np.dot(np.dot(inv_L, S), term1)\n",
    "    result = [int(np.abs(ele[0])) for ele in np.dot(term2, y).round(0)]\n",
    "    \n",
    "    y_pred = [result[i] for i in y_pred_idxs]\n",
    "    y_true = [labels[i] for i in y_pred_idxs]\n",
    "    \n",
    "    acc = accuracy_score(y_true, y_pred)    \n",
    "    \n",
    "    print('The accuracy when we use  {}%  of data for training is:  {:<5.2f}'.format(p * 100, acc))"
   ]
  },
  {
   "cell_type": "code",
   "execution_count": null,
   "id": "8a563948",
   "metadata": {},
   "outputs": [],
   "source": []
  },
  {
   "cell_type": "markdown",
   "id": "c97962d9",
   "metadata": {},
   "source": [
    "### Finito"
   ]
  }
 ],
 "metadata": {
  "kernelspec": {
   "display_name": "Python 3 (ipykernel)",
   "language": "python",
   "name": "python3"
  },
  "language_info": {
   "codemirror_mode": {
    "name": "ipython",
    "version": 3
   },
   "file_extension": ".py",
   "mimetype": "text/x-python",
   "name": "python",
   "nbconvert_exporter": "python",
   "pygments_lexer": "ipython3",
   "version": "3.10.1"
  },
  "toc": {
   "base_numbering": 1,
   "nav_menu": {},
   "number_sections": false,
   "sideBar": true,
   "skip_h1_title": false,
   "title_cell": "Table of Contents",
   "title_sidebar": "Contents",
   "toc_cell": false,
   "toc_position": {},
   "toc_section_display": true,
   "toc_window_display": false
  }
 },
 "nbformat": 4,
 "nbformat_minor": 5
}
