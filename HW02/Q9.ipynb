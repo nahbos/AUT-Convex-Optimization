{
 "cells": [
  {
   "cell_type": "markdown",
   "id": "88e5d4bb",
   "metadata": {},
   "source": [
    "### - Sobhan Moradian Daghigh\n",
    "#### - 5/23/2022\n",
    "#### - Convex - HW02 - Q9"
   ]
  },
  {
   "cell_type": "code",
   "execution_count": 1,
   "id": "2f7b8fcc",
   "metadata": {},
   "outputs": [],
   "source": [
    "import numpy as np\n",
    "import cvxpy as cp\n",
    "from matplotlib import pyplot as plt"
   ]
  },
  {
   "cell_type": "code",
   "execution_count": 19,
   "id": "5d06315f",
   "metadata": {},
   "outputs": [],
   "source": [
    "np.random.seed(1)"
   ]
  },
  {
   "cell_type": "markdown",
   "id": "537d8132",
   "metadata": {},
   "source": [
    "### Assumptions"
   ]
  },
  {
   "cell_type": "code",
   "execution_count": 20,
   "id": "f19dc468",
   "metadata": {},
   "outputs": [],
   "source": [
    "n = 100\n",
    "m = 300\n",
    "A = np.random.rand(m, n)\n",
    "b = np.matmul(A, np.divide(np.ones((n, 1)), 2))\n",
    "c = - np.random.rand(n, 1)"
   ]
  },
  {
   "cell_type": "code",
   "execution_count": null,
   "id": "93f22327",
   "metadata": {},
   "outputs": [],
   "source": []
  },
  {
   "cell_type": "markdown",
   "id": "087e7ae9",
   "metadata": {},
   "source": [
    "### Optimization Problem"
   ]
  },
  {
   "cell_type": "code",
   "execution_count": 22,
   "id": "00911823",
   "metadata": {},
   "outputs": [],
   "source": [
    "x = cp.Variable((n,1))\n",
    "objective = cp.Minimize(np.matmul(c.T, x))\n",
    "constraints = [np.matmul(A, x) <= b,x >= 0, x <= 1]\n",
    "prob = cp.Problem(objective, constraints)\n",
    "prob = prob.solve(qcp=True)"
   ]
  },
  {
   "cell_type": "code",
   "execution_count": 23,
   "id": "2eebf7ac",
   "metadata": {},
   "outputs": [
    {
     "data": {
      "text/plain": [
       "-34.589711316657336"
      ]
     },
     "execution_count": 23,
     "metadata": {},
     "output_type": "execute_result"
    }
   ],
   "source": [
    "objective.value"
   ]
  },
  {
   "cell_type": "code",
   "execution_count": null,
   "id": "170577be",
   "metadata": {},
   "outputs": [],
   "source": []
  },
  {
   "cell_type": "code",
   "execution_count": 25,
   "id": "d116018d",
   "metadata": {},
   "outputs": [],
   "source": [
    "def relaxing(num, threshold):\n",
    "    return 1 if num >= threshold else 0"
   ]
  },
  {
   "cell_type": "code",
   "execution_count": 40,
   "id": "0ca8313b",
   "metadata": {},
   "outputs": [],
   "source": [
    "thresh_nums = 100\n",
    "thresholds = np.arange(0, thresh_nums) / (thresh_nums - 1)"
   ]
  },
  {
   "cell_type": "code",
   "execution_count": 106,
   "id": "43af5601",
   "metadata": {},
   "outputs": [],
   "source": [
    "maxs = []\n",
    "Us = []\n",
    "upper = np.inf\n",
    "for thresh in thresholds:\n",
    "    relaxed = np.array(list((map(lambda a: relaxing(a, threshold=thresh), x.value)))).reshape(thresh_nums, 1)\n",
    "    U = np.matmul(c.T, relaxed)\n",
    "    Us.append(U)\n",
    "    maximum = np.max(np.matmul(A, relaxed) - b)\n",
    "    maxs.append(maximum)\n",
    "    \n",
    "    if upper > U and maximum <= 0:\n",
    "        upper = U\n",
    "\n",
    "maxs = np.array(maxs)\n",
    "Us = np.array(Us)"
   ]
  },
  {
   "cell_type": "code",
   "execution_count": 112,
   "id": "aae515e7",
   "metadata": {},
   "outputs": [
    {
     "name": "stdout",
     "output_type": "stream",
     "text": [
      "L: -34.589711316657336\n",
      "U: -33.88368852196696\n",
      "Diff: 0.7060227946903765\n"
     ]
    }
   ],
   "source": [
    "print('L: {}'.format(objective.value))\n",
    "print('U: {}'.format(upper[0][0]))\n",
    "print('Diff: {}'.format(upper[0][0] - objective.value))"
   ]
  },
  {
   "cell_type": "code",
   "execution_count": 107,
   "id": "bf444dc8",
   "metadata": {},
   "outputs": [
    {
     "data": {
      "text/plain": [
       "array([[0.70602279]])"
      ]
     },
     "execution_count": 107,
     "metadata": {},
     "output_type": "execute_result"
    }
   ],
   "source": [
    "upper - objective.value"
   ]
  },
  {
   "cell_type": "code",
   "execution_count": 90,
   "id": "d2c6c783",
   "metadata": {},
   "outputs": [
    {
     "data": {
      "image/png": "[encoded data removed]",
      "text/plain": [
       "<Figure size 432x288 with 1 Axes>"
      ]
     },
     "metadata": {
      "needs_background": "light"
     },
     "output_type": "display_data"
    }
   ],
   "source": [
    "plt.plot(thresholds[maxs<=0], maxs[maxs<=0], label='Feasible')\n",
    "plt.plot(thresholds[maxs>0], maxs[maxs>0], label='Infeasible')\n",
    "plt.legend()\n",
    "plt.show()"
   ]
  },
  {
   "cell_type": "code",
   "execution_count": null,
   "id": "6c3c36f0",
   "metadata": {},
   "outputs": [],
   "source": []
  },
  {
   "cell_type": "code",
   "execution_count": 82,
   "id": "ad6ecd41",
   "metadata": {},
   "outputs": [
    {
     "data": {
      "image/png": "[encoded data removed]",
      "text/plain": [
       "<Figure size 432x288 with 1 Axes>"
      ]
     },
     "metadata": {
      "needs_background": "light"
     },
     "output_type": "display_data"
    }
   ],
   "source": [
    "plt.plot(thresholds, Us.reshape(thresh_nums, 1))\n",
    "plt.show()"
   ]
  },
  {
   "cell_type": "code",
   "execution_count": null,
   "id": "50844353",
   "metadata": {},
   "outputs": [],
   "source": []
  },
  {
   "cell_type": "code",
   "execution_count": null,
   "id": "58ea0600",
   "metadata": {},
   "outputs": [],
   "source": []
  },
  {
   "cell_type": "markdown",
   "id": "0df92295",
   "metadata": {},
   "source": [
    "### Finito"
   ]
  }
 ],
 "metadata": {
  "kernelspec": {
   "display_name": "Python 3 (ipykernel)",
   "language": "python",
   "name": "python3"
  },
  "language_info": {
   "codemirror_mode": {
    "name": "ipython",
    "version": 3
   },
   "file_extension": ".py",
   "mimetype": "text/x-python",
   "name": "python",
   "nbconvert_exporter": "python",
   "pygments_lexer": "ipython3",
   "version": "3.10.1"
  }
 },
 "nbformat": 4,
 "nbformat_minor": 5
}
