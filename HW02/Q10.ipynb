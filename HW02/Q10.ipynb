{
 "cells": [
  {
   "cell_type": "markdown",
   "id": "468992b1",
   "metadata": {},
   "source": [
    "### - Sobhan Moradian Daghigh\n",
    "#### - 5/24/2022\n",
    "#### - Convex - HW02 - Q10"
   ]
  },
  {
   "cell_type": "code",
   "execution_count": null,
   "id": "d721278f",
   "metadata": {},
   "outputs": [],
   "source": []
  },
  {
   "cell_type": "code",
   "execution_count": 1,
   "id": "4874da01",
   "metadata": {},
   "outputs": [],
   "source": [
    "import numpy as np\n",
    "from matplotlib import pyplot as plt"
   ]
  },
  {
   "cell_type": "code",
   "execution_count": null,
   "id": "7a005286",
   "metadata": {},
   "outputs": [],
   "source": []
  },
  {
   "cell_type": "code",
   "execution_count": 2,
   "id": "567f06da",
   "metadata": {},
   "outputs": [],
   "source": [
    "def makeA1(a, b, c, n):\n",
    "    arr = np.zeros((n, n))\n",
    "    for i in range(n):\n",
    "        for j in range(n):\n",
    "            if i - j == 1:\n",
    "                arr[i, j] = a\n",
    "            elif i == j:\n",
    "                arr[i, j] = b\n",
    "            elif i - j == -1:\n",
    "                arr[i, j] = c\n",
    "    return arr                "
   ]
  },
  {
   "cell_type": "code",
   "execution_count": 3,
   "id": "b513d8ca",
   "metadata": {},
   "outputs": [],
   "source": [
    "def makeA2(n):\n",
    "    arr = np.zeros((n, n))\n",
    "    for i in range(n):\n",
    "        for j in range(n):\n",
    "            arr[i, j] = 1 / (i + j + 1)\n",
    "    return arr      "
   ]
  },
  {
   "cell_type": "code",
   "execution_count": 4,
   "id": "24be8607",
   "metadata": {},
   "outputs": [
    {
     "data": {
      "text/plain": [
       "array([[ 4., -1.,  0.,  0.,  0.],\n",
       "       [-1.,  4., -1.,  0.,  0.],\n",
       "       [ 0., -1.,  4., -1.,  0.],\n",
       "       [ 0.,  0., -1.,  4., -1.],\n",
       "       [ 0.,  0.,  0., -1.,  4.]])"
      ]
     },
     "execution_count": 4,
     "metadata": {},
     "output_type": "execute_result"
    }
   ],
   "source": [
    "makeA1(a=-1, b=4, c=-1, n=5)"
   ]
  },
  {
   "cell_type": "code",
   "execution_count": 5,
   "id": "c8bc9716",
   "metadata": {},
   "outputs": [
    {
     "data": {
      "text/plain": [
       "array([[1.        , 0.5       , 0.33333333, 0.25      , 0.2       ],\n",
       "       [0.5       , 0.33333333, 0.25      , 0.2       , 0.16666667],\n",
       "       [0.33333333, 0.25      , 0.2       , 0.16666667, 0.14285714],\n",
       "       [0.25      , 0.2       , 0.16666667, 0.14285714, 0.125     ],\n",
       "       [0.2       , 0.16666667, 0.14285714, 0.125     , 0.11111111]])"
      ]
     },
     "execution_count": 5,
     "metadata": {},
     "output_type": "execute_result"
    }
   ],
   "source": [
    "makeA2(n=5)"
   ]
  },
  {
   "cell_type": "code",
   "execution_count": null,
   "id": "08714ee2",
   "metadata": {},
   "outputs": [],
   "source": []
  },
  {
   "cell_type": "code",
   "execution_count": 6,
   "id": "026cf2e5",
   "metadata": {},
   "outputs": [],
   "source": [
    "def opt_objective(x, A, b):\n",
    "    return np.subtract(np.multiply(0.5, np.matmul(np.matmul(x.T, A), x)), np.matmul(b.T, x))"
   ]
  },
  {
   "cell_type": "code",
   "execution_count": 7,
   "id": "407f39d8",
   "metadata": {},
   "outputs": [],
   "source": [
    "def get_norm(x):\n",
    "    return np.linalg.norm(x)"
   ]
  },
  {
   "cell_type": "code",
   "execution_count": 8,
   "id": "24fa0e7e",
   "metadata": {},
   "outputs": [],
   "source": [
    "def get_gradient(x, A, b):\n",
    "    return np.subtract(np.matmul(A, x), b)"
   ]
  },
  {
   "cell_type": "code",
   "execution_count": 9,
   "id": "46c3e5c2",
   "metadata": {},
   "outputs": [],
   "source": [
    "def check_first_wolfe(x, A, b, c, alpha, pk):\n",
    "    if opt_objective(x + alpha * pk, A, b) > opt_objective(x, A, b) + (c * alpha * -np.matmul(get_gradient(x, A, b).T, get_gradient(x, A, b))):\n",
    "        return True"
   ]
  },
  {
   "cell_type": "code",
   "execution_count": 10,
   "id": "084feb00",
   "metadata": {},
   "outputs": [],
   "source": [
    "def get_B(x, x_prev, bk, A, b):\n",
    "    # According to the Wikipedia\n",
    "    sk = (x - x_prev).reshape(x.shape[0], 1)\n",
    "    yk = (get_gradient(x, A, b) - get_gradient(x_prev, A, b)).reshape(x.shape[0], 1)\n",
    "    bk1 = np.add(bk, \n",
    "                 np.subtract(yk @ yk.T / (yk.T @ sk)[0][0], \n",
    "                                 (bk @ sk @ sk.T @ bk) / (sk.T @ bk @ sk)[0][0]))\n",
    "    return bk"
   ]
  },
  {
   "cell_type": "code",
   "execution_count": 11,
   "id": "d8874762",
   "metadata": {},
   "outputs": [],
   "source": [
    "def backtracking(x, A, b, alpha, pk, r, c):\n",
    "    while check_first_wolfe(x=x, A=A, b=b, c=c, alpha=alpha, pk=pk):\n",
    "        alpha *= r\n",
    "    return alpha"
   ]
  },
  {
   "cell_type": "code",
   "execution_count": 12,
   "id": "ae390781",
   "metadata": {},
   "outputs": [],
   "source": [
    "def steepest(x, A, b, alpha, r, c, iterations):\n",
    "    for i in range(iterations):\n",
    "        gradient = get_gradient(x, A, b)\n",
    "        pk = -gradient\n",
    "        alpha = backtracking(x, A, b, alpha, pk, r, c)\n",
    "        x -= np.multiply(alpha, gradient)\n",
    "    return x"
   ]
  },
  {
   "cell_type": "code",
   "execution_count": 13,
   "id": "b1a579b2",
   "metadata": {},
   "outputs": [],
   "source": [
    "def newton(x, A, b, alpha, r, c, iterations):\n",
    "    for i in range(iterations):\n",
    "        gradient = get_gradient(x, A, b)\n",
    "        hessian = A\n",
    "        pk = - np.matmul(np.linalg.inv(hessian), gradient)\n",
    "        alpha = backtracking(x, A, b, alpha, pk, r, c)\n",
    "        x += alpha * pk\n",
    "    return x"
   ]
  },
  {
   "cell_type": "code",
   "execution_count": 14,
   "id": "f8ba7dab",
   "metadata": {},
   "outputs": [],
   "source": [
    "def BFGS(x, A, b, alpha, r, c, iterations, n):\n",
    "    bk = np.eye(n)\n",
    "    for i in range(iterations):\n",
    "        gradient = get_gradient(x, A, b)\n",
    "        pk = - np.matmul(np.linalg.inv(bk), gradient)\n",
    "        alpha = backtracking(x, A, b, alpha, pk, r, c)\n",
    "        x_prev = x.copy()\n",
    "        x += alpha * pk\n",
    "        bk = get_B(x, x_prev, bk, A, b)\n",
    "    return x"
   ]
  },
  {
   "cell_type": "code",
   "execution_count": null,
   "id": "3b901885",
   "metadata": {},
   "outputs": [],
   "source": []
  },
  {
   "cell_type": "markdown",
   "id": "f0f88110",
   "metadata": {},
   "source": [
    "### Part A."
   ]
  },
  {
   "cell_type": "code",
   "execution_count": 15,
   "id": "ac7b96be",
   "metadata": {},
   "outputs": [],
   "source": [
    "ns = [40, 400]"
   ]
  },
  {
   "cell_type": "markdown",
   "id": "fcb96574",
   "metadata": {},
   "source": [
    "#### Steepest:"
   ]
  },
  {
   "cell_type": "code",
   "execution_count": 16,
   "id": "d1b5f945",
   "metadata": {},
   "outputs": [],
   "source": [
    "steepest_errors = []\n",
    "for n in ns:\n",
    "    As = []\n",
    "    As.append(makeA1(a=-1, b=4, c=-1, n=n))\n",
    "    As.append(makeA2(n=n))\n",
    "    for A in As:\n",
    "        x = np.zeros(n)\n",
    "        b = np.ones(n)\n",
    "        alpha = 0.5\n",
    "        r = 0.1\n",
    "        c = 0.3\n",
    "        iterations = 200\n",
    "        x_star = steepest(x, A, b, alpha, r, c, iterations)\n",
    "        error = get_norm(get_gradient(x_star, A, b))  \n",
    "        steepest_errors.append(error)"
   ]
  },
  {
   "cell_type": "code",
   "execution_count": 17,
   "id": "72d08172",
   "metadata": {},
   "outputs": [
    {
     "data": {
      "text/plain": [
       "[5.881222812854774e-07,\n",
       " 0.24894885463792382,\n",
       " 1.0310992602026099e-06,\n",
       " 0.8093246608581389]"
      ]
     },
     "execution_count": 17,
     "metadata": {},
     "output_type": "execute_result"
    }
   ],
   "source": [
    "steepest_errors"
   ]
  },
  {
   "cell_type": "code",
   "execution_count": null,
   "id": "05833fc5",
   "metadata": {},
   "outputs": [],
   "source": []
  },
  {
   "cell_type": "markdown",
   "id": "8cb7f708",
   "metadata": {},
   "source": [
    "#### Newtons"
   ]
  },
  {
   "cell_type": "code",
   "execution_count": 18,
   "id": "4f0f0962",
   "metadata": {},
   "outputs": [],
   "source": [
    "newton_errors = []\n",
    "for n in ns:\n",
    "    As = []\n",
    "    As.append(makeA1(a=-1, b=4, c=-1, n=n))\n",
    "    As.append(makeA2(n=n))\n",
    "    for i, A in enumerate(As):\n",
    "        x = np.zeros(n)\n",
    "        b = np.ones(n)\n",
    "        alpha = [0.5, 0.17]\n",
    "        r = [0.1, 0.1]\n",
    "        c = [0.3, 20]\n",
    "        iterations = 100\n",
    "        x_star = newton(x, A, b, alpha[i], r[i], c[i], iterations)\n",
    "        error = get_norm(get_gradient(x_star, A, b))  \n",
    "        newton_errors.append(error)"
   ]
  },
  {
   "cell_type": "code",
   "execution_count": 19,
   "id": "805cf3ac",
   "metadata": {},
   "outputs": [
    {
     "data": {
      "text/plain": [
       "[1.884864367208147e-07,\n",
       " 6.324555320336759,\n",
       " 2.2649764954585424e-06,\n",
       " 15.162933756605419]"
      ]
     },
     "execution_count": 19,
     "metadata": {},
     "output_type": "execute_result"
    }
   ],
   "source": [
    "newton_errors"
   ]
  },
  {
   "cell_type": "code",
   "execution_count": null,
   "id": "4e044d4f",
   "metadata": {},
   "outputs": [],
   "source": []
  },
  {
   "cell_type": "markdown",
   "id": "00df9dec",
   "metadata": {},
   "source": [
    "#### BFGS"
   ]
  },
  {
   "cell_type": "code",
   "execution_count": 20,
   "id": "b11ba143",
   "metadata": {},
   "outputs": [
    {
     "name": "stderr",
     "output_type": "stream",
     "text": [
      "C:\\Users\\VIRGIL~1\\AppData\\Local\\Temp/ipykernel_14436/3543894875.py:6: RuntimeWarning: invalid value encountered in true_divide\n",
      "  np.subtract(yk @ yk.T / (yk.T @ sk)[0][0],\n",
      "C:\\Users\\VIRGIL~1\\AppData\\Local\\Temp/ipykernel_14436/3543894875.py:7: RuntimeWarning: invalid value encountered in true_divide\n",
      "  (bk @ sk @ sk.T @ bk) / (sk.T @ bk @ sk)[0][0]))\n"
     ]
    }
   ],
   "source": [
    "bfgs_errors = []\n",
    "for n in ns:\n",
    "    As = []\n",
    "    As.append(makeA1(a=-1, b=4, c=-1, n=n))\n",
    "    As.append(makeA2(n=n))\n",
    "    for A in As:\n",
    "        x = np.zeros(n).astype(np.float32)\n",
    "        b = np.ones(n)\n",
    "        alpha = 0.5\n",
    "        r = 0.1\n",
    "        c = 0.3\n",
    "        iterations = 200\n",
    "        x_star = BFGS(x, A, b, alpha, r, c, iterations, n)\n",
    "        error = get_norm(get_gradient(x_star, A, b))  \n",
    "        bfgs_errors.append(error)"
   ]
  },
  {
   "cell_type": "code",
   "execution_count": 21,
   "id": "dd5f6ce2",
   "metadata": {},
   "outputs": [
    {
     "data": {
      "text/plain": [
       "[1.1603785952288976e-06,\n",
       " 0.2489488624939514,\n",
       " 1.1603785952288976e-06,\n",
       " 0.8093246543796154]"
      ]
     },
     "execution_count": 21,
     "metadata": {},
     "output_type": "execute_result"
    }
   ],
   "source": [
    "bfgs_errors"
   ]
  },
  {
   "cell_type": "code",
   "execution_count": null,
   "id": "72d989a0",
   "metadata": {},
   "outputs": [],
   "source": []
  },
  {
   "cell_type": "markdown",
   "id": "4def5798",
   "metadata": {},
   "source": [
    "### Part B."
   ]
  },
  {
   "cell_type": "code",
   "execution_count": 22,
   "id": "1f73027a",
   "metadata": {},
   "outputs": [],
   "source": [
    "eps = 1e-6"
   ]
  },
  {
   "cell_type": "markdown",
   "id": "eb267736",
   "metadata": {},
   "source": [
    "#### Steepest + eps"
   ]
  },
  {
   "cell_type": "code",
   "execution_count": 23,
   "id": "4da4e936",
   "metadata": {},
   "outputs": [],
   "source": [
    "new_steepest_errors = []\n",
    "for n in ns:\n",
    "    As = []\n",
    "    As.append(makeA1(a=-1, b=4, c=-1, n=n) + eps)\n",
    "    As.append(makeA2(n=n) + eps)\n",
    "    for A in As:\n",
    "        x = np.zeros(n)\n",
    "        b = np.ones(n)\n",
    "        alpha = 0.5\n",
    "        r = 0.1\n",
    "        c = 0.3\n",
    "        iterations = 200\n",
    "        x_star = steepest(x, A, b, alpha, r, c, iterations)\n",
    "        error = get_norm(get_gradient(x_star, A, b))  \n",
    "        new_steepest_errors.append(error)"
   ]
  },
  {
   "cell_type": "code",
   "execution_count": 24,
   "id": "143edd90",
   "metadata": {},
   "outputs": [
    {
     "data": {
      "text/plain": [
       "[4.704449448941997e-07,\n",
       " 0.2489247091698735,\n",
       " 8.936064101334794e-06,\n",
       " 0.8085477676092931]"
      ]
     },
     "execution_count": 24,
     "metadata": {},
     "output_type": "execute_result"
    }
   ],
   "source": [
    "new_steepest_errors"
   ]
  },
  {
   "cell_type": "code",
   "execution_count": 25,
   "id": "9a92d666",
   "metadata": {},
   "outputs": [
    {
     "name": "stdout",
     "output_type": "stream",
     "text": [
      "1.1767733639127766e-07\n",
      "2.4145468050323915e-05\n",
      "7.904964841132185e-06\n",
      "0.000776893248845778\n"
     ]
    }
   ],
   "source": [
    "for error, new_error in zip(steepest_errors, new_steepest_errors):\n",
    "    print(get_norm(np.subtract(error, new_error)))"
   ]
  },
  {
   "cell_type": "code",
   "execution_count": null,
   "id": "f26831b0",
   "metadata": {},
   "outputs": [],
   "source": []
  },
  {
   "cell_type": "markdown",
   "id": "f273e02c",
   "metadata": {},
   "source": [
    "#### Newton + eps"
   ]
  },
  {
   "cell_type": "code",
   "execution_count": 26,
   "id": "9189ee91",
   "metadata": {},
   "outputs": [],
   "source": [
    "new_newton_errors = []\n",
    "for n in ns:\n",
    "    As = []\n",
    "    As.append(makeA1(a=-1, b=4, c=-1, n=n) + eps)\n",
    "    As.append(makeA2(n=n) + eps)\n",
    "    for i, A in enumerate(As):\n",
    "        x = np.zeros(n)\n",
    "        b = np.ones(n)\n",
    "        alpha = [0.5, 0.17]\n",
    "        r = [0.1, 0.1]\n",
    "        c = [0.3, 20]\n",
    "        iterations = 100\n",
    "        x_star = newton(x, A, b, alpha[i], r[i], c[i], iterations)\n",
    "        error = get_norm(get_gradient(x_star, A, b))  \n",
    "        new_newton_errors.append(error)"
   ]
  },
  {
   "cell_type": "code",
   "execution_count": 30,
   "id": "ac62d09c",
   "metadata": {},
   "outputs": [
    {
     "data": {
      "text/plain": [
       "[3.769540264625242e-07,\n",
       " 6.324555320336759,\n",
       " 9.53669077324859e-06,\n",
       " 94.39642645059253]"
      ]
     },
     "execution_count": 30,
     "metadata": {},
     "output_type": "execute_result"
    }
   ],
   "source": [
    "new_newton_errors"
   ]
  },
  {
   "cell_type": "code",
   "execution_count": 27,
   "id": "67a6936a",
   "metadata": {},
   "outputs": [
    {
     "name": "stdout",
     "output_type": "stream",
     "text": [
      "1.884675897417095e-07\n",
      "0.0\n",
      "7.271714277790048e-06\n",
      "79.2334926939871\n"
     ]
    }
   ],
   "source": [
    "for error, new_error in zip(newton_errors, new_newton_errors):\n",
    "    print(get_norm(np.subtract(error, new_error)))"
   ]
  },
  {
   "cell_type": "code",
   "execution_count": null,
   "id": "fb415a30",
   "metadata": {},
   "outputs": [],
   "source": []
  },
  {
   "cell_type": "markdown",
   "id": "8d05359a",
   "metadata": {},
   "source": [
    "#### BFGS"
   ]
  },
  {
   "cell_type": "code",
   "execution_count": 28,
   "id": "815d81c8",
   "metadata": {},
   "outputs": [
    {
     "name": "stderr",
     "output_type": "stream",
     "text": [
      "C:\\Users\\VIRGIL~1\\AppData\\Local\\Temp/ipykernel_14436/3543894875.py:6: RuntimeWarning: invalid value encountered in true_divide\n",
      "  np.subtract(yk @ yk.T / (yk.T @ sk)[0][0],\n",
      "C:\\Users\\VIRGIL~1\\AppData\\Local\\Temp/ipykernel_14436/3543894875.py:7: RuntimeWarning: invalid value encountered in true_divide\n",
      "  (bk @ sk @ sk.T @ bk) / (sk.T @ bk @ sk)[0][0]))\n"
     ]
    }
   ],
   "source": [
    "new_bfgs_errors = []\n",
    "for n in ns:\n",
    "    As = []\n",
    "    As.append(makeA1(a=-1, b=4, c=-1, n=n) + eps)\n",
    "    As.append(makeA2(n=n) + eps)\n",
    "    for A in As:\n",
    "        x = np.zeros(n).astype(np.float32)\n",
    "        b = np.ones(n)\n",
    "        alpha = 0.5\n",
    "        r = 0.1\n",
    "        c = 0.3\n",
    "        iterations = 200\n",
    "        x_star = BFGS(x, A, b, alpha, r, c, iterations, n)\n",
    "        error = get_norm(get_gradient(x_star, A, b))  \n",
    "        new_bfgs_errors.append(error)"
   ]
  },
  {
   "cell_type": "code",
   "execution_count": 31,
   "id": "a543b396",
   "metadata": {},
   "outputs": [
    {
     "data": {
      "text/plain": [
       "[1.5938068890557663e-06,\n",
       " 0.24892469994388447,\n",
       " 6.937263777844877e-06,\n",
       " 0.8085477621732413]"
      ]
     },
     "execution_count": 31,
     "metadata": {},
     "output_type": "execute_result"
    }
   ],
   "source": [
    "new_bfgs_errors"
   ]
  },
  {
   "cell_type": "code",
   "execution_count": 29,
   "id": "7da62c97",
   "metadata": {},
   "outputs": [
    {
     "name": "stdout",
     "output_type": "stream",
     "text": [
      "4.334282938268687e-07\n",
      "2.4162550066930688e-05\n",
      "5.77688518261598e-06\n",
      "0.0007768922063741135\n"
     ]
    }
   ],
   "source": [
    "for error, new_error in zip(bfgs_errors, new_bfgs_errors):\n",
    "    print(get_norm(np.subtract(error, new_error)))"
   ]
  },
  {
   "cell_type": "code",
   "execution_count": null,
   "id": "836649ff",
   "metadata": {},
   "outputs": [],
   "source": []
  },
  {
   "cell_type": "code",
   "execution_count": null,
   "id": "3841f0ab",
   "metadata": {},
   "outputs": [],
   "source": []
  }
 ],
 "metadata": {
  "kernelspec": {
   "display_name": "Python 3 (ipykernel)",
   "language": "python",
   "name": "python3"
  },
  "language_info": {
   "codemirror_mode": {
    "name": "ipython",
    "version": 3
   },
   "file_extension": ".py",
   "mimetype": "text/x-python",
   "name": "python",
   "nbconvert_exporter": "python",
   "pygments_lexer": "ipython3",
   "version": "3.10.1"
  }
 },
 "nbformat": 4,
 "nbformat_minor": 5
}
